{
 "cells": [
  {
   "cell_type": "code",
   "execution_count": 24,
   "id": "93ba1b99",
   "metadata": {},
   "outputs": [
    {
     "name": "stdout",
     "output_type": "stream",
     "text": [
      "23\n"
     ]
    }
   ],
   "source": [
    "age = 23\n",
    "print (int(age))#Declare your age as integer variable"
   ]
  },
  {
   "cell_type": "code",
   "execution_count": 3,
   "id": "c5a54ea4",
   "metadata": {},
   "outputs": [
    {
     "name": "stdout",
     "output_type": "stream",
     "text": [
      "163.0\n"
     ]
    }
   ],
   "source": [
    "height = 163\n",
    "print (float(height))#Declare your height as a float variable"
   ]
  },
  {
   "cell_type": "code",
   "execution_count": 15,
   "id": "d615795f",
   "metadata": {},
   "outputs": [
    {
     "name": "stdout",
     "output_type": "stream",
     "text": [
      "(3+27j) <class 'complex'>\n"
     ]
    }
   ],
   "source": [
    "c = 3 + 27j\n",
    "print(c,type(c))#Declare a variable that store a complex number"
   ]
  },
  {
   "cell_type": "code",
   "execution_count": 4,
   "id": "912eedb5",
   "metadata": {},
   "outputs": [
    {
     "name": "stdout",
     "output_type": "stream",
     "text": [
      "100.0\n"
     ]
    }
   ],
   "source": [
    "#Write a code that prompts the user to enter base and height of the triangle and calculate an area of this triangle (area = 0.5 x b x h).\n",
    "b=20\n",
    "h=10\n",
    "area=(0.5*b*h)\n",
    "print(area)"
   ]
  },
  {
   "cell_type": "code",
   "execution_count": 5,
   "id": "5d50c5cd",
   "metadata": {},
   "outputs": [
    {
     "name": "stdout",
     "output_type": "stream",
     "text": [
      "12\n"
     ]
    }
   ],
   "source": [
    "#Write a code that prompts the user to enter side a, side b, and side c of the triangle. Calculate the perimeter of the triangle (perimeter = a + b + c).\n",
    "a=5\n",
    "b=4\n",
    "c=3\n",
    "C=(a+b+c)\n",
    "print(C)"
   ]
  },
  {
   "cell_type": "code",
   "execution_count": 6,
   "id": "d8c224a2",
   "metadata": {},
   "outputs": [
    {
     "name": "stdout",
     "output_type": "stream",
     "text": [
      "please input the width:4\n",
      "please input the length:5\n",
      "area: 20.0\n",
      "perimeter: 18.0\n"
     ]
    }
   ],
   "source": [
    "#Get length and width of a rectangle using prompt. Calculate its area (area = length x width) and perimeter (perimeter = 2 x (length + width))print('The perimeter =12,side a =5,side b =4')\n",
    "width=float(input(\"please input the width:\"))\n",
    "length=float(input(\"please input the length:\"))\n",
    "area=width*length\n",
    "perimeter=(width+length)*2\n",
    "print(\"area:\",area)\n",
    "print(\"perimeter:\",perimeter)"
   ]
  },
  {
   "cell_type": "code",
   "execution_count": 7,
   "id": "7f9a99ff",
   "metadata": {},
   "outputs": [
    {
     "name": "stdout",
     "output_type": "stream",
     "text": [
      "please input the radius3\n",
      "area: 28.26\n",
      "circumference: 18.84\n"
     ]
    }
   ],
   "source": [
    "#Get radius of a circle using prompt. Calculate the area (area = pi x r x r) and circumference (c = 2 x pi x r) where pi = 3.14.\n",
    "radius = int(input(\"please input the radius\"))\n",
    "area = 3.14*radius**2\n",
    "circumference = 2*3.14*radius\n",
    "print(\"area:\",float(area))\n",
    "print(\"circumference:\",float(circumference))"
   ]
  },
  {
   "cell_type": "code",
   "execution_count": 12,
   "id": "e66177ee",
   "metadata": {},
   "outputs": [
    {
     "name": "stdout",
     "output_type": "stream",
     "text": [
      "2\n"
     ]
    }
   ],
   "source": [
    "#Find the slope and Euclidean distance between point (2, 2) and point (6,10)\n",
    "A= [2, 2]\n",
    "B= [6, 10] \n",
    "slope = abs((A[1] - B[1]) / (A[0] - B[0] )) \n",
    "print(int(slope))\n",
    "\n"
   ]
  },
  {
   "cell_type": "code",
   "execution_count": 14,
   "id": "4e707bab",
   "metadata": {},
   "outputs": [
    {
     "name": "stdout",
     "output_type": "stream",
     "text": [
      "k1=k2\n"
     ]
    }
   ],
   "source": [
    "k1=2\n",
    "k2=2\n",
    "if k1>k2:\n",
    "    print(\"k1>k2\")\n",
    "if k1==k2:\n",
    "    print(\"k1=k2\")\n",
    "if k1<k2:\n",
    "    print(\"k1<k2\")\n"
   ]
  },
  {
   "cell_type": "code",
   "execution_count": 16,
   "id": "816c211f",
   "metadata": {},
   "outputs": [
    {
     "name": "stdout",
     "output_type": "stream",
     "text": [
      "[-3]\n"
     ]
    }
   ],
   "source": [
    "#Calculate the value of y ( 𝑦=𝑥*x+6𝑥+9 ). Try to use different x values and figure out at what x value y is going to be 0.\n",
    "from sympy import *\n",
    "x = symbols('x')\n",
    "print(solve(x*x+6*x+9,x))"
   ]
  },
  {
   "cell_type": "code",
   "execution_count": 26,
   "id": "555f4ee4",
   "metadata": {},
   "outputs": [
    {
     "data": {
      "text/plain": [
       "False"
      ]
     },
     "execution_count": 26,
     "metadata": {},
     "output_type": "execute_result"
    }
   ],
   "source": [
    "#Find the length of 'python' and 'datascience' and make a falsy comparison statement.\n",
    "len(str('python'))\n",
    "len(str('python'))\n",
    "len(str('python'))>len(str('python'))"
   ]
  },
  {
   "cell_type": "code",
   "execution_count": 18,
   "id": "222b93c0",
   "metadata": {},
   "outputs": [
    {
     "name": "stdout",
     "output_type": "stream",
     "text": [
      "true\n"
     ]
    }
   ],
   "source": [
    "#I hope this course is not full of jargon. Use in operator to check if jargon is in the sentence.\n",
    "a = 'I hope this course is not full of jargon.'\n",
    "if 'jargon' in a:\n",
    "    print('true')\n",
    "else:\n",
    "    print(flase)"
   ]
  },
  {
   "cell_type": "code",
   "execution_count": 3,
   "id": "c3d3a048",
   "metadata": {},
   "outputs": [
    {
     "name": "stdout",
     "output_type": "stream",
     "text": [
      "6.0\n"
     ]
    }
   ],
   "source": [
    "print(str(float(len(str('python')))))  #Find the length of the text python and convert the value to float and convert it to string"
   ]
  },
  {
   "cell_type": "code",
   "execution_count": 4,
   "id": "551d9229",
   "metadata": {},
   "outputs": [
    {
     "name": "stdout",
     "output_type": "stream",
     "text": [
      "a:10\n",
      "even\n"
     ]
    }
   ],
   "source": [
    "num =int( input('a:'))\n",
    "if num % 2 == 0:\n",
    "    print('even')\n",
    "else:\n",
    "    print('odd')            #Even numbers are divisible by 2 and the remainder is zero. How do you check if a number is even or not using python?"
   ]
  },
  {
   "cell_type": "code",
   "execution_count": 5,
   "id": "3a472cf0",
   "metadata": {},
   "outputs": [
    {
     "data": {
      "text/plain": [
       "False"
      ]
     },
     "execution_count": 5,
     "metadata": {},
     "output_type": "execute_result"
    }
   ],
   "source": [
    "7/3 ==2.7   #Check if the floor division of 7 by 3 is equal to the int converted value of 2.7."
   ]
  },
  {
   "cell_type": "code",
   "execution_count": 6,
   "id": "79f81d99",
   "metadata": {},
   "outputs": [
    {
     "data": {
      "text/plain": [
       "False"
      ]
     },
     "execution_count": 6,
     "metadata": {},
     "output_type": "execute_result"
    }
   ],
   "source": [
    "type('10') == type(10)#Check if type of \"10\" is equal to type of 10"
   ]
  }
 ],
 "metadata": {
  "kernelspec": {
   "display_name": "Python 3",
   "language": "python",
   "name": "python3"
  },
  "language_info": {
   "codemirror_mode": {
    "name": "ipython",
    "version": 3
   },
   "file_extension": ".py",
   "mimetype": "text/x-python",
   "name": "python",
   "nbconvert_exporter": "python",
   "pygments_lexer": "ipython3",
   "version": "3.8.8"
  }
 },
 "nbformat": 4,
 "nbformat_minor": 5
}
